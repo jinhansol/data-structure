{
  "nbformat": 4,
  "nbformat_minor": 0,
  "metadata": {
    "colab": {
      "provenance": [],
      "authorship_tag": "ABX9TyNcJW93pfVu8SW7hbwKa1Qf",
      "include_colab_link": true
    },
    "kernelspec": {
      "name": "python3",
      "display_name": "Python 3"
    },
    "language_info": {
      "name": "python"
    }
  },
  "cells": [
    {
      "cell_type": "markdown",
      "metadata": {
        "id": "view-in-github",
        "colab_type": "text"
      },
      "source": [
        "<a href=\"https://colab.research.google.com/github/jinhansol/data-structure/blob/main/%EC%9E%90%EB%A3%8C%EA%B5%AC%EC%A1%B0.ipynb\" target=\"_parent\"><img src=\"https://colab.research.google.com/assets/colab-badge.svg\" alt=\"Open In Colab\"/></a>"
      ]
    },
    {
      "cell_type": "code",
      "source": [
        "#파이썬을 이용한 리스트ADT\n",
        "\n",
        "items = []\n",
        "def insert(pos, elem) :\n",
        "  items.insert(pos, elem)\n",
        "def delete(pos) :\n",
        "  items.pop(pos)\n",
        "def getEntry(pos): return items[pos]\n",
        "def isEmpty():\n",
        "  if len(items) == 0 :\n",
        "    return True\n",
        "  else :\n",
        "    return False\n",
        "#def isEmpty() : return len(items) == 0\n",
        "def size(): return len(items)\n",
        "def clear(): items = []\n",
        "#def clear(): global itemsl items = [ ]\n",
        "def find(item) : return items.index(item)\n",
        "def replace(pos, elem) : items[pos] = elem\n",
        "def sort() : items.sort()\n",
        "def merge(lst) : items.extend(lst)\n",
        "def display(msg='ArrayList:'):\n",
        "  print(msg, size(), items)\n",
        "def append(elem):\n",
        "  items.append(elem)"
      ],
      "metadata": {
        "id": "RkNdwp_DxvBR"
      },
      "execution_count": null,
      "outputs": []
    },
    {
      "cell_type": "code",
      "source": [
        "#파이썬 클래스를 이용한 리스트 ADT\n",
        "class ArrayList():\n",
        "  def __init__(self):\n",
        "    self.items = []\n",
        "  def insert(self, pos, elem) :\n",
        "    self.items.insert(pos, elem)\n",
        "  def delete(self, pos):\n",
        "    self.items.pop(pos)\n",
        "  def getEntry(self, pos): return self.items[pos]\n",
        "  def isEmpty(self) :\n",
        "    if len(self.items) == 0 :\n",
        "      return True\n",
        "    else :\n",
        "      return False\n",
        "\n",
        "#def isEmpty(self) : return len(self.items) == 0\n",
        "def size(self) : return len(self.items)\n",
        "def clear(self): self.items = []\n",
        "def find(self, item) : return self.items.index(item)\n",
        "def replace(self, pos, elem): self.items[pos] = elem\n",
        "def sort(self): self.items.sort()\n",
        "def merge(self, lst) : self.items.extend(lst)\n",
        "def display(self, msg='ArrayList:' ):\n",
        "  print(msg, self.size(), self.items)\n",
        "def append(self, elem):\n",
        "  self.items.append(elem)"
      ],
      "metadata": {
        "id": "pzApr-EHy3A-"
      },
      "execution_count": null,
      "outputs": []
    },
    {
      "cell_type": "code",
      "source": [
        "items = [ ]\n",
        "\n",
        "def isEmpty():\n",
        "  return len(items) == 0\n",
        "def enqueue(item):\n",
        "  items.append(item)\n",
        "def dequeue():\n",
        "  if not isEmpty():\n",
        "    return items.pop(0)\n",
        "def peek():\n",
        "  if not isEmpty(): return items[-1]\n",
        "def size():\n",
        "  return len(items)\n",
        "def clear():\n",
        "  global items; items = []"
      ],
      "metadata": {
        "id": "IPFunJz01O68"
      },
      "execution_count": null,
      "outputs": []
    },
    {
      "cell_type": "code",
      "source": [
        "MAX_QSIZE = 10\n",
        "class CircularQueue :\n",
        "  def __init__(self) :\n",
        "    self.front = 0\n",
        "    self.rear = 0\n",
        "    self.items = [None] * MAX_QSIZE\n",
        "\n",
        "  def isEmpty(self) : return self.front == self.rear\n",
        "  def isFull(self) : return self.front == (self.rear+1)%MAX_QSIZE\n",
        "  def clear( self ) : self.front = self.rear\n",
        "  def enqueue(self, item):\n",
        "    if not self.isFull():\n",
        "      self.rear = (self.rear+1)% MAX_QSIZE\n",
        "      self.items[self.rear] = item\n",
        "  def dequeue( self ):\n",
        "    if not self.isEmpty():\n",
        "      self.front = (self.front+1)% MAX_QSIZE\n",
        "      return self.items[self.front]\n",
        "  def peek( self ):\n",
        "    if not self.isEmpty():\n",
        "      return self.items[(self.front + 1) % MAX_QSIZE]\n",
        "  def size( self ):\n",
        "    return self.items[(self.front + 1) % MAX_QSIZE]\n",
        "  def size( self ):\n",
        "    return (self.rear - self.front + MAX_QSIZE) % MAX_QSIZE\n",
        "  def display( self ):\n",
        "    out = [ ]\n",
        "    if self.front < self.rear :\n",
        "      out = self.items[self.front+1:self.rear+1]\n",
        "    else:\n",
        "      out = self.items[self.front+1:MAX_QSIZE] \\\n",
        "          + self.items[0:self.rear+1]\n",
        "    print(\"[f=%s,r=%d] ==> \"%(self.front, self.rear), out)"
      ],
      "metadata": {
        "id": "ivobUZHD13K-"
      },
      "execution_count": null,
      "outputs": []
    },
    {
      "cell_type": "code",
      "execution_count": null,
      "metadata": {
        "colab": {
          "base_uri": "https://localhost:8080/"
        },
        "id": "KK7vgfJf9aAq",
        "outputId": "52ba0c25-3c98-484e-cfd4-f5c143e59426"
      },
      "outputs": [
        {
          "output_type": "stream",
          "name": "stdout",
          "text": [
            "큐의 내용:  1 2 3 4 5 6 7 8 9 \n"
          ]
        }
      ],
      "source": [
        "import queue\n",
        "\n",
        "Q = queue.Queue(maxsize = 20)\n",
        "for v in range(1, 10) :\n",
        "  Q.put(v)\n",
        "print(\"큐의 내용: \", end=' ')\n",
        "for _ in range(1, 10) :\n",
        "  print(Q.get(), end=' ')\n",
        "print()"
      ]
    },
    {
      "cell_type": "code",
      "source": [
        "S = queue.LifoQueue(maxsize = 20)\n",
        "for v in range(1, 10) :\n",
        "  S.put(v)\n",
        "print(\"큐의 내용: \", end= '')\n",
        "for _ in range(1, 10) :\n",
        "  print(S.get(), end=' ')\n",
        "print()"
      ],
      "metadata": {
        "colab": {
          "base_uri": "https://localhost:8080/"
        },
        "id": "tdRlMDOL5nX8",
        "outputId": "ec16d51b-c1b4-4d56-d4c0-b0442c03f0a2"
      },
      "execution_count": null,
      "outputs": [
        {
          "output_type": "stream",
          "name": "stdout",
          "text": [
            "큐의 내용: 9 8 7 6 5 4 3 2 1 \n"
          ]
        }
      ]
    },
    {
      "cell_type": "code",
      "source": [
        "class CircularDeque(CircularQueue) :\n",
        "  def __init__( self ) :\n",
        "    super().__init__()\n",
        "  def addRear( self, item ): self.enqueue(item)\n",
        "  def deleteFront( self ): return self.dequeue()\n",
        "  def getFront( self ): return self.peek()\n",
        "  def addFront( self, item) :\n",
        "    if not self.isFull():\n",
        "      self.items[self.front] = item\n",
        "      self.front = self.front - 1\n",
        "      if self.front < 0 : self.front = MAX_QSIZE - 1\n",
        "\n",
        "  def deleteRear( self ):\n",
        "    if not self.isEmpty():\n",
        "      item = self.items[self.rear];\n",
        "      self.rear = self.rear - 1\n",
        "      if self.rear <  0 : self.rear = MAX_QSIZE - 1\n",
        "      return item\n",
        "\n",
        "  def getRear( self ):\n",
        "    return self.items[self.rear]"
      ],
      "metadata": {
        "id": "vqTS1IEg5_Tr"
      },
      "execution_count": null,
      "outputs": []
    },
    {
      "cell_type": "code",
      "source": [
        "class PriortyQueue :\n",
        "  def _init__( self ):\n",
        "    self.items = []\n",
        "\n",
        "  def isEmpty( self ):\n",
        "    return len( self. items ) == 0\n",
        "  def size( self ): return len(self.items)\n",
        "  def clear( self ): self.items = []\n",
        "\n",
        "  def enqueue(self, item):\n",
        "    self.tiems.append( item )\n",
        "\n",
        "  def findMAxIndex( self ):\n",
        "    if self.isEmpty(): return None\n",
        "    else:\n",
        "      highest = 0\n",
        "      for i in range(l, self.size()) :\n",
        "        if self.items[i] > self.items[highest] :\n",
        "          highest = i\n",
        "      return highest\n",
        "\n",
        "  def dequeue( self ):\n",
        "    highest = self.findMaxIndex()\n",
        "    if highest is not None :\n",
        "      return self.items.pop(highest)\n",
        "\n",
        "  def peek( self ):\n",
        "    highest = findMaxIndex()\n",
        "    if highest is not None :\n",
        "      return self.items[highest]"
      ],
      "metadata": {
        "id": "LdrHJagL7B1B"
      },
      "execution_count": null,
      "outputs": []
    },
    {
      "cell_type": "code",
      "source": [
        "#연결된 스택(Node 클래스 사용)\n",
        "class Node:\n",
        "  def __init__ (self, elem, link=None):\n",
        "    self.data = elem\n",
        "    self.ling = link"
      ],
      "metadata": {
        "id": "KW2ENqaa8vjW"
      },
      "execution_count": null,
      "outputs": []
    },
    {
      "cell_type": "code",
      "source": [
        "class Linkedstack :\n",
        "  def __init__( self ):\n",
        "    self.top = None\n",
        "  def isEmpty( self ): return self.top == None\n",
        "  def clear( self ): self.top = None"
      ],
      "metadata": {
        "id": "l-iQFNg5_o3R"
      },
      "execution_count": null,
      "outputs": []
    },
    {
      "cell_type": "code",
      "source": [
        "#선택정렬\n",
        "def selection_sort(A):\n",
        "  n = len(A)\n",
        "  for i in range(n-1) :\n",
        "    least = i;\n",
        "    for j in range(i+1, n) :\n",
        "      if (A[j]<A[least]) :\n",
        "        least = j\n",
        "    A[i], A[least] = A[least], A[i]\n",
        "    printStep(A, i + 1)\n",
        "\n",
        "def printStep(arr, val) :\n",
        "  print(\" Step %2d = \" % val, end='')\n",
        "  print(arr)"
      ],
      "metadata": {
        "id": "100q_4QpQVvR"
      },
      "execution_count": 2,
      "outputs": []
    }
  ]
}